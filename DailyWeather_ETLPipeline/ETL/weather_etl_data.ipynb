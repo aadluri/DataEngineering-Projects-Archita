{
 "cells": [
  {
   "cell_type": "markdown",
   "id": "f528b655",
   "metadata": {},
   "source": [
    "### Fetching the Data - Extract tranform Load"
   ]
  },
  {
   "cell_type": "markdown",
   "id": "35c15331",
   "metadata": {},
   "source": [
    "1. Extract from OpenWeatherMap API or some other ( keep it generic on github)\n",
    "    - raw data store in temp table (json)\n",
    "2. load to AWS S3 (maybe)\n",
    "    - end of this file, can be ignored\n",
    "3. Load to PostgresSQL \n",
    "    - parse JSON, clean up raw data\n",
    "    - this occurs in another file, so we just need to get the json ready here\n",
    "\n"
   ]
  },
  {
   "cell_type": "code",
   "execution_count": 1,
   "id": "96d148f9",
   "metadata": {},
   "outputs": [],
   "source": [
    "import requests\n",
    "import json\n",
    "from datetime import datetime"
   ]
  },
  {
   "cell_type": "code",
   "execution_count": null,
   "id": "7fd9d98b",
   "metadata": {},
   "outputs": [
    {
     "ename": "SyntaxError",
     "evalue": "cannot assign to expression here. Maybe you meant '==' instead of '='? (1592987112.py, line 3)",
     "output_type": "error",
     "traceback": [
      "  \u001b[36mCell\u001b[39m\u001b[36m \u001b[39m\u001b[32mIn[2]\u001b[39m\u001b[32m, line 3\u001b[39m\n\u001b[31m    \u001b[39m\u001b[31mapi-key = \"some_api_key\"\u001b[39m\n    ^\n\u001b[31mSyntaxError\u001b[39m\u001b[31m:\u001b[39m cannot assign to expression here. Maybe you meant '==' instead of '='?\n"
     ]
    }
   ],
   "source": [
    "# links, Keys and other variables\n",
    "city = \"Vancouver\" \n",
    "api_key = \"some_api_key\"\n",
    "output_path = \"data/{date}_weather.json\""
   ]
  },
  {
   "cell_type": "code",
   "execution_count": null,
   "id": "a5402103",
   "metadata": {},
   "outputs": [],
   "source": [
    "\n",
    "def fetch_weather_data():\n",
    "    #url=(f\"http://api.openweathermap.org/data/2.5/weather?q={CITY}&appid={API_KEY}&units=metric\")\n",
    "    url=f\"http://api.weatherapi.com/v1/forecast.json?key=&q={city}&appid={API_KEY}&days=1&aqi=yes&alerts=no\n",
    "    response = requests.get(url)    \n",
    "    if response.status_code == 200:\n",
    "        data = response.json()\n",
    "        date_str = datetime.now().strftime(\"%Y-%m-%d\")\n",
    "        with open(output_path.format(date=date_str), 'w') as f:\n",
    "            json.dump(data, f, indent=4)\n",
    "        print(f\"Weather data for {city} saved to {output_path.format(date=date_str)}\")\n",
    "        # return data\n",
    "    else:\n",
    "        print(f\"Error fetching data: {response.status_code}\")\n",
    "        #return None"
   ]
  },
  {
   "cell_type": "markdown",
   "id": "3385548e",
   "metadata": {},
   "source": [
    "Run to upload to S3, also avalilable in upload s3.py. any changes here, copy to that file. "
   ]
  },
  {
   "cell_type": "code",
   "execution_count": null,
   "id": "8d0c2bac",
   "metadata": {},
   "outputs": [],
   "source": [
    "import boto3\n",
    "\n",
    "s3 = boto3.client('s3')\n",
    "\n",
    "def upload_to_s3(local_path, bucket, s3_path):\n",
    "    s3.upload_file(local_path, bucket, s3_path)"
   ]
  }
 ],
 "metadata": {
  "kernelspec": {
   "display_name": "mlpyenv",
   "language": "python",
   "name": "python3"
  },
  "language_info": {
   "codemirror_mode": {
    "name": "ipython",
    "version": 3
   },
   "file_extension": ".py",
   "mimetype": "text/x-python",
   "name": "python",
   "nbconvert_exporter": "python",
   "pygments_lexer": "ipython3",
   "version": "3.13.2"
  }
 },
 "nbformat": 4,
 "nbformat_minor": 5
}
